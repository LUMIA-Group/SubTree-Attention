{
 "cells": [
  {
   "cell_type": "code",
   "execution_count": 2,
   "metadata": {},
   "outputs": [],
   "source": [
    "import os\n",
    "import re\n",
    "\n",
    "import networkx as nx\n",
    "import numpy as np\n",
    "import scipy.sparse as sp\n",
    "import torch as th\n",
    "from sklearn.model_selection import ShuffleSplit\n",
    "\n",
    "train_percentage=0.6\n",
    "val_percentage=0.2\n",
    "\n",
    "labels = th.load('labels.pt')\n",
    "\n",
    "train_and_val_index, test_index = next(\n",
    "    ShuffleSplit(n_splits=1, train_size=train_percentage + val_percentage).split(\n",
    "        np.empty_like(labels), labels))\n",
    "train_index, val_index = next(ShuffleSplit(n_splits=1, train_size=train_percentage).split(\n",
    "    np.empty_like(labels[train_and_val_index]), labels[train_and_val_index]))\n",
    "train_index = train_and_val_index[train_index]\n",
    "val_index = train_and_val_index[val_index]"
   ]
  },
  {
   "cell_type": "code",
   "execution_count": 5,
   "metadata": {},
   "outputs": [
    {
     "data": {
      "text/plain": [
       "19717"
      ]
     },
     "execution_count": 5,
     "metadata": {},
     "output_type": "execute_result"
    }
   ],
   "source": [
    "len(labels)"
   ]
  },
  {
   "cell_type": "code",
   "execution_count": 8,
   "metadata": {},
   "outputs": [
    {
     "data": {
      "text/plain": [
       "0.4799411675204139"
      ]
     },
     "execution_count": 8,
     "metadata": {},
     "output_type": "execute_result"
    }
   ],
   "source": [
    "len(train_index)/len(labels)"
   ]
  },
  {
   "cell_type": "code",
   "execution_count": null,
   "metadata": {},
   "outputs": [],
   "source": []
  }
 ],
 "metadata": {
  "kernelspec": {
   "display_name": "nag",
   "language": "python",
   "name": "python3"
  },
  "language_info": {
   "codemirror_mode": {
    "name": "ipython",
    "version": 3
   },
   "file_extension": ".py",
   "mimetype": "text/x-python",
   "name": "python",
   "nbconvert_exporter": "python",
   "pygments_lexer": "ipython3",
   "version": "3.8.13"
  },
  "orig_nbformat": 4
 },
 "nbformat": 4,
 "nbformat_minor": 2
}
